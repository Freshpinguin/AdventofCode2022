{
 "cells": [
  {
   "cell_type": "markdown",
   "metadata": {},
   "source": [
    "## --- Day 13: Distress Signal ---"
   ]
  },
  {
   "cell_type": "markdown",
   "metadata": {},
   "source": [
    "### https://adventofcode.com/2022/day/13"
   ]
  },
  {
   "cell_type": "code",
   "execution_count": 51,
   "metadata": {},
   "outputs": [],
   "source": [
    "example = \"\"\"[1,1,3,1,1]\n",
    "[1,1,5,1,1]\n",
    "\n",
    "[[1],[2,3,4]]\n",
    "[[1],4]\n",
    "\n",
    "[9]\n",
    "[[8,7,6]]\n",
    "\n",
    "[[4,4],4,4]\n",
    "[[4,4],4,4,4]\n",
    "\n",
    "[7,7,7,7]\n",
    "[7,7,7]\n",
    "\n",
    "[]\n",
    "[3]\n",
    "\n",
    "[[[]]]\n",
    "[[]]\n",
    "\n",
    "[1,[2,[3,[4,[5,6,7]]]],8,9]\n",
    "[1,[2,[3,[4,[5,6,0]]]],8,9]\"\"\""
   ]
  },
  {
   "cell_type": "code",
   "execution_count": 2,
   "metadata": {},
   "outputs": [],
   "source": [
    "def to_int(li1, li2):\n",
    "    max_l = max(len(li1), len(li2))\n",
    "    \n",
    "    li1 = [li1[x] if x in range(len(li1)) else '0' for x in range(max_l)]\n",
    "    li2 = [li2[x] if x in range(len(li2)) else '0' for x in range(max_l)]\n",
    "    return ''.join(li1),''.join(li2)"
   ]
  },
  {
   "cell_type": "code",
   "execution_count": 9,
   "metadata": {},
   "outputs": [
    {
     "name": "stdout",
     "output_type": "stream",
     "text": [
      "6172\n"
     ]
    }
   ],
   "source": [
    "parse = [[y for y in  x.replace('[',',').replace(']',',').split(',') if y ] for x in inp.split('\\n')[:-1] if x]\n",
    "parsed = [to_int(parse[i],parse[i+1]) for i in range(0,len(parse),2) ]\n",
    "parsed = [(int(x[0]) if x[0] else -1,int(x[1]) if x[1] else -1) for x in parsed]\n",
    "smaller = [x[0]<x[1] for x in parsed]\n",
    "summe = sum([i+1 if smaller[i] else 0 for i in range(len(smaller))])\n",
    "print(summe)"
   ]
  },
  {
   "cell_type": "code",
   "execution_count": 72,
   "metadata": {},
   "outputs": [],
   "source": [
    "with open('input13.txt', 'r') as this:\n",
    "    inp = [eval(x) for x in this.read().split('\\n')[:-1] if x]"
   ]
  },
  {
   "cell_type": "code",
   "execution_count": 15,
   "metadata": {},
   "outputs": [
    {
     "data": {
      "text/plain": [
       "[[[6, 10, [], [8, 1, 6], 6], [], [[1], 7, 1, 0]], [9]]"
      ]
     },
     "execution_count": 15,
     "metadata": {},
     "output_type": "execute_result"
    }
   ],
   "source": [
    "eval(inp.split('\\n')[0])"
   ]
  },
  {
   "cell_type": "code",
   "execution_count": 16,
   "metadata": {},
   "outputs": [
    {
     "data": {
      "text/plain": [
       "''"
      ]
     },
     "execution_count": 16,
     "metadata": {},
     "output_type": "execute_result"
    }
   ],
   "source": [
    "inp.split('\\n')[-1]"
   ]
  },
  {
   "cell_type": "code",
   "execution_count": 62,
   "metadata": {},
   "outputs": [],
   "source": [
    "ex = [ eval(x) for x in example.split('\\n') if x]"
   ]
  },
  {
   "cell_type": "code",
   "execution_count": 66,
   "metadata": {},
   "outputs": [
    {
     "data": {
      "text/plain": [
       "[[1, 1, 3, 1, 1],\n",
       " [1, 1, 5, 1, 1],\n",
       " [[1], [2, 3, 4]],\n",
       " [[1], 4],\n",
       " [9],\n",
       " [[8, 7, 6]],\n",
       " [[4, 4], 4, 4],\n",
       " [[4, 4], 4, 4, 4],\n",
       " [7, 7, 7, 7],\n",
       " [7, 7, 7],\n",
       " [],\n",
       " [3],\n",
       " [[[]]],\n",
       " [[]],\n",
       " [1, [2, [3, [4, [5, 6, 7]]]], 8, 9],\n",
       " [1, [2, [3, [4, [5, 6, 0]]]], 8, 9]]"
      ]
     },
     "execution_count": 66,
     "metadata": {},
     "output_type": "execute_result"
    }
   ],
   "source": [
    "ex"
   ]
  },
  {
   "cell_type": "code",
   "execution_count": 90,
   "metadata": {},
   "outputs": [],
   "source": [
    "divider = [[[2]],[[6]]]"
   ]
  },
  {
   "cell_type": "code",
   "execution_count": 79,
   "metadata": {},
   "outputs": [
    {
     "name": "stdout",
     "output_type": "stream",
     "text": [
      "==\n",
      "==\n",
      "==\n",
      "==\n",
      "==\n"
     ]
    },
    {
     "data": {
      "text/plain": [
       "6070"
      ]
     },
     "execution_count": 79,
     "metadata": {},
     "output_type": "execute_result"
    }
   ],
   "source": [
    "sm = [smaller(inp[i],inp[i+1])=='<' for i in range(0,len(inp),2)]\n",
    "sum([(i+1) for i in range(len(sm))  if sm[i]])"
   ]
  },
  {
   "cell_type": "code",
   "execution_count": 95,
   "metadata": {},
   "outputs": [
    {
     "data": {
      "text/plain": [
       "20758"
      ]
     },
     "execution_count": 95,
     "metadata": {},
     "output_type": "execute_result"
    }
   ],
   "source": [
    "from functools import cmp_to_key\n",
    "\n",
    "dk = sorted(inp+divider, key=cmp_to_key(wrapper))\n",
    "(1+dk.index([[2]]))*(dk.index([[6]])+1)"
   ]
  },
  {
   "cell_type": "code",
   "execution_count": 84,
   "metadata": {},
   "outputs": [],
   "source": [
    "# '=' means equal\n",
    "# '<' means smaller\n",
    "# '>' means greater\n",
    "\n",
    "def smaller(x,y):\n",
    "    \n",
    "    if not x and not y:\n",
    "        \n",
    "        return '=='\n",
    "    \n",
    "    if not x:\n",
    "        return '<'\n",
    "    \n",
    "    if not y:\n",
    "        return '>'\n",
    "    \n",
    "    if isinstance(x[0],list) and isinstance(y[0],list):\n",
    "        if smaller(x[0],y[0]) == '==':\n",
    "  \n",
    "            \n",
    "            return smaller(x[1:],y[1:])\n",
    "        \n",
    "        return smaller(x[0],y[0])\n",
    "    \n",
    "\n",
    "    \n",
    "    if isinstance(x[0], int) and isinstance(y[0], list):\n",
    "        if smaller([x[0]],y[0]) == '==':\n",
    "            return smaller(x[1:],y[1:])\n",
    "        \n",
    "        return smaller([x[0]],y[0])\n",
    "        \n",
    "    if isinstance(x[0], list) and isinstance(y[0], int):\n",
    "        \n",
    "        if smaller(x[0],[y[0]]) == '==':\n",
    "            return smaller(x[1:],y[1:])\n",
    "        \n",
    "        return smaller(x[0],[y[0]])\n",
    "        \n",
    "    if isinstance(x[0], int) and isinstance(y[0], int):\n",
    "        \n",
    "        \n",
    "        if x[0] == y[0]:\n",
    "            if len(x)==1 and len(y)==1:\n",
    "                \n",
    "                return '=='\n",
    "            if len(x)==1:\n",
    "                return '<'\n",
    "            if len(y)==1:\n",
    "                return '>'\n",
    "            return smaller(x[1:],y[1:])\n",
    "        if x[0] < y[0]:\n",
    "            return '<'\n",
    "        \n",
    "        return '>'\n",
    "    \n",
    "           \n",
    "    \n",
    "def wrapper(x,y):\n",
    "    k = smaller(x,y)\n",
    "    \n",
    "    if k=='==':\n",
    "        return 0\n",
    "    \n",
    "    if k=='<':\n",
    "        return -1\n",
    "    \n",
    "    if k=='>':\n",
    "        return 1\n",
    "    \n",
    "    \n",
    "    "
   ]
  },
  {
   "cell_type": "code",
   "execution_count": 50,
   "metadata": {},
   "outputs": [
    {
     "data": {
      "text/plain": [
       "'=='"
      ]
     },
     "execution_count": 50,
     "metadata": {},
     "output_type": "execute_result"
    }
   ],
   "source": [
    "smaller([1],[1])"
   ]
  },
  {
   "cell_type": "code",
   "execution_count": 24,
   "metadata": {},
   "outputs": [
    {
     "data": {
      "text/plain": [
       "True"
      ]
     },
     "execution_count": 24,
     "metadata": {},
     "output_type": "execute_result"
    }
   ],
   "source": [
    "isinstance([], list)"
   ]
  },
  {
   "cell_type": "code",
   "execution_count": null,
   "metadata": {},
   "outputs": [],
   "source": []
  }
 ],
 "metadata": {
  "kernelspec": {
   "display_name": "Python 3 (ipykernel)",
   "language": "python",
   "name": "python3"
  },
  "language_info": {
   "codemirror_mode": {
    "name": "ipython",
    "version": 3
   },
   "file_extension": ".py",
   "mimetype": "text/x-python",
   "name": "python",
   "nbconvert_exporter": "python",
   "pygments_lexer": "ipython3",
   "version": "3.8.13"
  }
 },
 "nbformat": 4,
 "nbformat_minor": 4
}
