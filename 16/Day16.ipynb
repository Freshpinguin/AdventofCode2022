{
 "cells": [
  {
   "cell_type": "markdown",
   "metadata": {},
   "source": [
    "# --- Day 16: Proboscidea Volcanium ---"
   ]
  },
  {
   "cell_type": "markdown",
   "metadata": {},
   "source": [
    "### https://adventofcode.com/2022/day/16"
   ]
  },
  {
   "cell_type": "code",
   "execution_count": 2,
   "metadata": {},
   "outputs": [],
   "source": [
    "example: str = \"\"\"Valve AA has flow rate=0; tunnels lead to valves DD, II, BB\n",
    "Valve BB has flow rate=13; tunnels lead to valves CC, AA\n",
    "Valve CC has flow rate=2; tunnels lead to valves DD, BB\n",
    "Valve DD has flow rate=20; tunnels lead to valves CC, AA, EE\n",
    "Valve EE has flow rate=3; tunnels lead to valves FF, DD\n",
    "Valve FF has flow rate=0; tunnels lead to valves EE, GG\n",
    "Valve GG has flow rate=0; tunnels lead to valves FF, HH\n",
    "Valve HH has flow rate=22; tunnel leads to valve GG\n",
    "Valve II has flow rate=0; tunnels lead to valves AA, JJ\n",
    "Valve JJ has flow rate=21; tunnel leads to valve II\"\"\""
   ]
  },
  {
   "cell_type": "code",
   "execution_count": 80,
   "metadata": {},
   "outputs": [],
   "source": [
    "def parse(inp :str) -> {str: {}}:\n",
    "    lined_inp: [str] = inp.split('\\n') if inp.split('\\n')[-1] else inp.split('\\n')[:-1]\n",
    "    cleaned: [str] = [line.replace(';', '').replace(',', '') for line in lined_inp]\n",
    "    picked: [[str]] = [[line.split(' ')[1],int(line.split(' ')[4].split('=')[1]), line.split(' ')[9:]]  for line in cleaned]\n",
    "    dicked: {} = {line[0]:{'r':line[1], 'f':line[2]} for line in picked }\n",
    "    return dicked\n",
    "\n",
    "def evaluate(path: [str], valves: {str: {}}) -> int:\n",
    "    if not len(path) == 31:\n",
    "        print(\"path too short\")\n",
    "        return\n",
    "    \n",
    "    if not path[0]=='AA':\n",
    "        print(\"path doesn't start at AA\")\n",
    "        return\n",
    "    \n",
    "    released_steam: int = 0\n",
    "        \n",
    "    for index, valve in enumerate(path):\n",
    "        if valve[0] == '+':\n",
    "            released_steam += valves[valve[1:3]]['r'] * (30-index)\n",
    "            \n",
    "    return released_steam\n",
    "    \n",
    "    \n",
    "def next_possibles( path: [str], valves: {str: {}}) -> [str]:\n",
    "    possibilities: [str] = []\n",
    "    \n",
    "    cur = path[-1] if path[-1][0] != '+' else path[-1][1:3]\n",
    "    \n",
    "    possibilities += valves[cur]['f']\n",
    "    \n",
    "    if not '+' + cur in path:\n",
    "        possibilities += [''.join(('+' + cur))]\n",
    "        \n",
    "    return possibilities"
   ]
  },
  {
   "cell_type": "code",
   "execution_count": 56,
   "metadata": {},
   "outputs": [],
   "source": [
    "with open('input16.txt', 'r') as this:\n",
    "    inp = this.read()"
   ]
  },
  {
   "cell_type": "code",
   "execution_count": 82,
   "metadata": {},
   "outputs": [],
   "source": [
    "graph: {str: {}} = parse(inp)"
   ]
  },
  {
   "cell_type": "code",
   "execution_count": 89,
   "metadata": {},
   "outputs": [
    {
     "data": {
      "text/plain": [
       "{'NV': {'r': 5, 'f': ['ZV', 'CG', 'YB', 'HX', 'OY']},\n",
       " 'NU': {'r': 6, 'f': ['DA', 'MA', 'OA', 'DK']},\n",
       " 'VU': {'r': 0, 'f': ['PS', 'FX']},\n",
       " 'JW': {'r': 0, 'f': ['AA', 'MD']},\n",
       " 'RI': {'r': 0, 'f': ['OY', 'DG']},\n",
       " 'DG': {'r': 9, 'f': ['TG', 'RI', 'DF', 'EV', 'KW']},\n",
       " 'PH': {'r': 7, 'f': ['KW', 'OW', 'LT', 'LZ']},\n",
       " 'KZ': {'r': 12, 'f': ['ET', 'QV', 'CK', 'MS']},\n",
       " 'IX': {'r': 0, 'f': ['TS', 'DO']},\n",
       " 'MS': {'r': 0, 'f': ['LZ', 'KZ']},\n",
       " 'IL': {'r': 0, 'f': ['DO', 'ET']},\n",
       " 'EJ': {'r': 20, 'f': ['AV', 'JY']},\n",
       " 'DK': {'r': 0, 'f': ['NU', 'CG']},\n",
       " 'YB': {'r': 0, 'f': ['NV', 'PS']},\n",
       " 'OA': {'r': 0, 'f': ['YA', 'NU']},\n",
       " 'DA': {'r': 0, 'f': ['NU', 'RG']},\n",
       " 'KO': {'r': 0, 'f': ['AA', 'TG']},\n",
       " 'RG': {'r': 4, 'f': ['DF', 'DA', 'ZV', 'MD', 'LB']},\n",
       " 'MA': {'r': 0, 'f': ['AA', 'NU']},\n",
       " 'OW': {'r': 0, 'f': ['DO', 'PH']},\n",
       " 'KW': {'r': 0, 'f': ['DG', 'PH']},\n",
       " 'DO': {'r': 14, 'f': ['IX', 'IL', 'CZ', 'OW']},\n",
       " 'DF': {'r': 0, 'f': ['RG', 'DG']},\n",
       " 'TG': {'r': 0, 'f': ['DG', 'KO']},\n",
       " 'LB': {'r': 0, 'f': ['RG', 'FX']},\n",
       " 'HX': {'r': 0, 'f': ['AA', 'NV']},\n",
       " 'GB': {'r': 0, 'f': ['AV', 'XK']},\n",
       " 'CG': {'r': 0, 'f': ['DK', 'NV']},\n",
       " 'LT': {'r': 0, 'f': ['AO', 'PH']},\n",
       " 'FX': {'r': 23, 'f': ['LB', 'HY', 'VU']},\n",
       " 'ET': {'r': 0, 'f': ['IL', 'KZ']},\n",
       " 'CK': {'r': 0, 'f': ['UX', 'KZ']},\n",
       " 'LZ': {'r': 0, 'f': ['PH', 'MS']},\n",
       " 'YA': {'r': 17, 'f': ['JY', 'OA']},\n",
       " 'TS': {'r': 0, 'f': ['NO', 'IX']},\n",
       " 'NO': {'r': 8, 'f': ['TS']},\n",
       " 'XK': {'r': 24, 'f': ['GB']},\n",
       " 'PS': {'r': 18, 'f': ['EV', 'VU', 'YB']},\n",
       " 'AA': {'r': 0, 'f': ['JW', 'HX', 'MA', 'KO']},\n",
       " 'MD': {'r': 0, 'f': ['JW', 'RG']},\n",
       " 'JM': {'r': 19, 'f': ['QV', 'HY', 'AO']},\n",
       " 'AV': {'r': 0, 'f': ['EJ', 'GB']},\n",
       " 'AO': {'r': 0, 'f': ['JM', 'LT']},\n",
       " 'JY': {'r': 0, 'f': ['YA', 'EJ']},\n",
       " 'OY': {'r': 0, 'f': ['NV', 'RI']},\n",
       " 'UX': {'r': 13, 'f': ['CZ', 'CK']},\n",
       " 'HY': {'r': 0, 'f': ['JM', 'FX']},\n",
       " 'EV': {'r': 0, 'f': ['PS', 'DG']},\n",
       " 'CZ': {'r': 0, 'f': ['UX', 'DO']},\n",
       " 'ZV': {'r': 0, 'f': ['NV', 'RG']},\n",
       " 'QV': {'r': 0, 'f': ['JM', 'KZ']}}"
      ]
     },
     "execution_count": 89,
     "metadata": {},
     "output_type": "execute_result"
    }
   ],
   "source": [
    "graph"
   ]
  },
  {
   "cell_type": "code",
   "execution_count": 121,
   "metadata": {},
   "outputs": [],
   "source": [
    "def dijkstra(valve: str, graph: {str: {}}) -> {str:int}:\n",
    "    shortes_paths = {v:1000090000 for v in graph.keys()}\n",
    "    shortes_paths[valve] = 0\n",
    "    \n",
    "    unvisited_valves = list(graph.keys())\n",
    "    unvisited_valves.remove(valve)\n",
    "    \n",
    "    \n",
    "    for foll in graph[valve]['f']:\n",
    "        shortes_paths[foll] = 1\n",
    "        \n",
    "    while(unvisited_valves):\n",
    "        val = sorted(unvisited_valves, key= lambda x:shortes_paths[x])[0]\n",
    "        unvisited_valves = sorted(unvisited_valves, key= lambda x:shortes_paths[x])[1:]\n",
    "        \n",
    "        for foll in graph[val]['f']:\n",
    "            \n",
    "            shortes_paths[foll] = min(shortes_paths[val]+1,shortes_paths[foll])\n",
    "        \n",
    "            \n",
    "        \n",
    "        \n",
    "            \n",
    "        \n",
    "        \n",
    "    \n",
    "    return shortes_paths"
   ]
  },
  {
   "cell_type": "code",
   "execution_count": 136,
   "metadata": {},
   "outputs": [],
   "source": [
    "shortes_paths = {val:dijkstra(val, graph) for val in graph.keys()}"
   ]
  },
  {
   "cell_type": "code",
   "execution_count": 137,
   "metadata": {},
   "outputs": [],
   "source": [
    "shortes_paths_value = {val:{fol:shortes_paths[val][fol]+1 for fol in shortes_paths[val] if graph[fol]['r']!=0 and shortes_paths[val][fol]!=0} for val in shortes_paths.keys() if graph[val]['r']!=0 or val=='AA'}"
   ]
  },
  {
   "cell_type": "code",
   "execution_count": 151,
   "metadata": {},
   "outputs": [
    {
     "data": {
      "text/plain": [
       "{'r': 4, 'f': ['DF', 'DA', 'ZV', 'MD', 'LB']}"
      ]
     },
     "execution_count": 151,
     "metadata": {},
     "output_type": "execute_result"
    }
   ],
   "source": [
    "graph['RG']"
   ]
  },
  {
   "cell_type": "code",
   "execution_count": 152,
   "metadata": {},
   "outputs": [
    {
     "data": {
      "text/plain": [
       "{'r': 18, 'f': ['EV', 'VU', 'YB']}"
      ]
     },
     "execution_count": 152,
     "metadata": {},
     "output_type": "execute_result"
    }
   ],
   "source": [
    "graph['PS']"
   ]
  },
  {
   "cell_type": "code",
   "execution_count": 171,
   "metadata": {},
   "outputs": [],
   "source": [
    "ext_path = []\n",
    "def backtracking(paths,path: [str] ,remaining: int, graph) -> int:\n",
    "    global ext_path\n",
    "    possibilities = [nex for nex in paths[path[-1]].keys() if  nex not in path and paths[path[-1]][nex] < remaining]\n",
    "    if not possibilities:\n",
    "        ext_path = path\n",
    "        return 0\n",
    "    win = max([(remaining-paths[path[-1]][pos])*graph[pos]['r'] + backtracking(paths, path+[pos],remaining-paths[path[-1]][pos], graph)  for pos in possibilities])\n",
    "    #print(possibilities)\n",
    "    #print(win)\n",
    "    return win\n",
    "    "
   ]
  },
  {
   "cell_type": "code",
   "execution_count": 172,
   "metadata": {},
   "outputs": [
    {
     "data": {
      "text/plain": [
       "1452"
      ]
     },
     "execution_count": 172,
     "metadata": {},
     "output_type": "execute_result"
    }
   ],
   "source": [
    "backtracking(shortes_paths_value, ['AA'], 26, graph)"
   ]
  },
  {
   "cell_type": "code",
   "execution_count": 173,
   "metadata": {},
   "outputs": [
    {
     "data": {
      "text/plain": [
       "['AA', 'UX', 'JM', 'PS', 'FX']"
      ]
     },
     "execution_count": 173,
     "metadata": {},
     "output_type": "execute_result"
    }
   ],
   "source": [
    "ext_path"
   ]
  },
  {
   "cell_type": "code",
   "execution_count": 174,
   "metadata": {},
   "outputs": [
    {
     "data": {
      "text/plain": [
       "1142"
      ]
     },
     "execution_count": 174,
     "metadata": {},
     "output_type": "execute_result"
    }
   ],
   "source": [
    "backtracking(shortes_paths_value, ['UX', 'JM', 'PS', 'FX','AA'], 26, graph)"
   ]
  },
  {
   "cell_type": "code",
   "execution_count": 175,
   "metadata": {},
   "outputs": [
    {
     "data": {
      "text/plain": [
       "2594"
      ]
     },
     "execution_count": 175,
     "metadata": {},
     "output_type": "execute_result"
    }
   ],
   "source": [
    "1452 + 1142"
   ]
  },
  {
   "cell_type": "code",
   "execution_count": null,
   "metadata": {},
   "outputs": [],
   "source": []
  }
 ],
 "metadata": {
  "kernelspec": {
   "display_name": "Python 3 (ipykernel)",
   "language": "python",
   "name": "python3"
  },
  "language_info": {
   "codemirror_mode": {
    "name": "ipython",
    "version": 3
   },
   "file_extension": ".py",
   "mimetype": "text/x-python",
   "name": "python",
   "nbconvert_exporter": "python",
   "pygments_lexer": "ipython3",
   "version": "3.8.13"
  }
 },
 "nbformat": 4,
 "nbformat_minor": 4
}
