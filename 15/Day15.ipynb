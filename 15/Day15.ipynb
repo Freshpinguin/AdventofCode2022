{
 "cells": [
  {
   "cell_type": "markdown",
   "metadata": {},
   "source": [
    "##  --- Day 15: Beacon Exclusion Zone ---"
   ]
  },
  {
   "cell_type": "markdown",
   "metadata": {},
   "source": [
    "### https://adventofcode.com/2022/day/15"
   ]
  },
  {
   "cell_type": "code",
   "execution_count": 35,
   "metadata": {},
   "outputs": [],
   "source": [
    "example = \"\"\"Sensor at x=2, y=18: closest beacon is at x=-2, y=15\n",
    "Sensor at x=9, y=16: closest beacon is at x=10, y=16\n",
    "Sensor at x=13, y=2: closest beacon is at x=15, y=3\n",
    "Sensor at x=12, y=14: closest beacon is at x=10, y=16\n",
    "Sensor at x=10, y=20: closest beacon is at x=10, y=16\n",
    "Sensor at x=14, y=17: closest beacon is at x=10, y=16\n",
    "Sensor at x=8, y=7: closest beacon is at x=2, y=10\n",
    "Sensor at x=2, y=0: closest beacon is at x=2, y=10\n",
    "Sensor at x=0, y=11: closest beacon is at x=2, y=10\n",
    "Sensor at x=20, y=14: closest beacon is at x=25, y=17\n",
    "Sensor at x=17, y=20: closest beacon is at x=21, y=22\n",
    "Sensor at x=16, y=7: closest beacon is at x=15, y=3\n",
    "Sensor at x=14, y=3: closest beacon is at x=15, y=3\n",
    "Sensor at x=20, y=1: closest beacon is at x=15, y=3\"\"\""
   ]
  },
  {
   "cell_type": "code",
   "execution_count": 2,
   "metadata": {},
   "outputs": [],
   "source": [
    "import math\n",
    "import re\n",
    "\n",
    "def manh(x: (int,int),y: (int,int)) -> int:\n",
    "    return abs(x[0] - y[0]) + abs(x[1] - y[1])\n",
    "\n",
    "\n",
    "def parse(inp: str) -> [[int]]:\n",
    "    lined_input : [str] = inp.split('\\n') if  inp.split('\\n')[-1] else inp.split('\\n')[:-1]\n",
    "    positioned_input : [[int]] = [[int(x) for x in re.findall(r'-{0,1}\\b\\d+\\b', line)] for line in lined_input]\n",
    "    return positioned_input\n",
    "\n",
    "\n",
    "def get_sens_beam_coord(pos_input: [[int]], line: int) -> [int]:\n",
    "    coords: [[(int,int)]] = [[(line[0],line[1]),(line[2],line[3])]for line in pos_input]\n",
    "    unpacks: [(int,int)] = [y for x in coords for y in x]\n",
    "    cuts: [int]           = [c[0] for c in unpacks if c[1]==line]\n",
    "    return list(set(cuts))\n",
    "    \n",
    "\n",
    "def sensor_range(pos_inp: [[int]] ) -> [(int,int,int)]:\n",
    "    sensor_range: [(int,int,int)] = [(line[0],line[1],manh((line[0],line[1]),(line[2],line[3]))) for line in pos_inp]\n",
    "    return sensor_range\n",
    "\n",
    "\n",
    "\n",
    "def find_cut( sens_rang: (int,int,int), line: int ) -> [int]:\n",
    "    dy: int = abs(sens_rang[1] - line)\n",
    "    pos: [int] = [x+sens_rang[0] for x in range(sens_rang[2] - dy + 1)]  + [sens_rang[0]-x-1 for x in range(sens_rang[2] - dy)]\n",
    "    return pos\n",
    "\n",
    "def find_all_cuts(sens_range_list: [(int,int,int)], line: int) -> [int]:\n",
    "    \n",
    "    cuts: [int] = [y for x in [find_cut(sens_rang, line) for sens_rang in sens_range_list] for y in x]\n",
    "    unique_cuts: [int] = list(set(cuts))\n",
    "    \n",
    "    return unique_cuts\n",
    "\n",
    "\n",
    "def solution(inp: str, line: int) -> int:\n",
    "    \n",
    "    parsed: [[int]] = parse(inp)\n",
    "    \n",
    "    \n",
    "    sens_beams: [int] = get_sens_beam_coord(parsed, line)\n",
    "        \n",
    "    cuts: [int] = find_all_cuts(sensor_range(parsed), line)\n",
    "        \n",
    "    return len(set(cuts)-set(sens_beams))"
   ]
  },
  {
   "cell_type": "code",
   "execution_count": 4,
   "metadata": {},
   "outputs": [],
   "source": [
    "with open('input15.txt', 'r') as this:\n",
    "    inp = this.read()"
   ]
  },
  {
   "cell_type": "code",
   "execution_count": 89,
   "metadata": {},
   "outputs": [
    {
     "data": {
      "text/plain": [
       "4873353"
      ]
     },
     "execution_count": 89,
     "metadata": {},
     "output_type": "execute_result"
    }
   ],
   "source": [
    "solution(inp, 2000000)"
   ]
  },
  {
   "cell_type": "markdown",
   "metadata": {},
   "source": [
    "## Task 2"
   ]
  },
  {
   "cell_type": "code",
   "execution_count": 92,
   "metadata": {},
   "outputs": [],
   "source": [
    "def outer_border(sens_r: (int,int,int)):\n",
    "    x,y = sens_r[0],sens_r[1]\n",
    "    points = [[(x+k[0]*i,y+k[1]*(sens_r[2]+1-i)) for i in range(1,sens_r[2]+1)] for k in [(1,1),(-1,1),(1,-1),(-1,-1)]]\n",
    "    \n",
    "    \n",
    "    return [y for x in points for y in x if 0<=y[0]<=4000000 and 0<=y[1]<=4000000]\n",
    "    "
   ]
  },
  {
   "cell_type": "code",
   "execution_count": 93,
   "metadata": {},
   "outputs": [],
   "source": [
    "outer_borders = [outer_border(x) for x in sensor_range(parse(inp))]\n",
    "candidates = [y for x in z for y in x]\n",
    "\n",
    "from collections import Counter\n",
    "\n",
    "count = Counter(candidates)\n",
    "duplicates = [point for point in count if count[point]>=3]\n"
   ]
  },
  {
   "cell_type": "code",
   "execution_count": 97,
   "metadata": {},
   "outputs": [
    {
     "name": "stdout",
     "output_type": "stream",
     "text": [
      "0\n",
      "11600823139120\n"
     ]
    }
   ],
   "source": [
    "for i, test_p in enumerate(duplicates):\n",
    "    checkit = all([manh(test_p,(p[0],p[1])) > p[2]          for p in sensor_range(parse(inp))])\n",
    "    \n",
    "        \n",
    "    if checkit:\n",
    "        print(test_p[0]*4000000 + test_p[1])\n",
    "        break\n"
   ]
  }
 ],
 "metadata": {
  "kernelspec": {
   "display_name": "Python 3 (ipykernel)",
   "language": "python",
   "name": "python3"
  },
  "language_info": {
   "codemirror_mode": {
    "name": "ipython",
    "version": 3
   },
   "file_extension": ".py",
   "mimetype": "text/x-python",
   "name": "python",
   "nbconvert_exporter": "python",
   "pygments_lexer": "ipython3",
   "version": "3.8.13"
  }
 },
 "nbformat": 4,
 "nbformat_minor": 4
}
